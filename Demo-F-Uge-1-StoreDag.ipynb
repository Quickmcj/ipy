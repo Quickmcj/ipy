{
 "cells": [
  {
   "cell_type": "markdown",
   "metadata": {},
   "source": [
    "# Partielle afledede, Gradienter, Retningsafledede\n",
    "\n",
    "Demo af Christian Mikkelstrup og Hans Henrik Hermansen"
   ]
  },
  {
   "cell_type": "code",
   "execution_count": null,
   "metadata": {},
   "outputs": [],
   "source": [
    "from sympy import *\n",
    "from dtumathtools import *\n",
    "init_printing()"
   ]
  },
  {
   "attachments": {},
   "cell_type": "markdown",
   "metadata": {},
   "source": [
    "Velkommen tilbage efter jul og januar, og velkommen til foråret i mat1. Der kommer til at være en helt masse nyt pensum, og blandt andet en helt masse 3D-plots! Til dette har vi udviklet ``dtumathtools``, som vil følge jer i løbet af foråret. Den indeholder ``dtuplot`` som skal bruges til at plotte, samt flere gode hjælpefunktioner. Det kan hentes fra terminalen, hvor man så skal skrive ``pip install dtumathtools`` (tilsvarende med ``pip3``). Det tager op til ~5 minutter før den er helt færdig og tillader dig igen at skrive i terminalen. Efter dette kan resten af demoen nydes."
   ]
  },
  {
   "attachments": {},
   "cell_type": "markdown",
   "metadata": {},
   "source": [
    "## Partielt afledte ved brug af ``diff``\n",
    "\n",
    "I dag introducerer vi partielle afledte, samt hvordan vi kan benytte dem. For at vise hvordan man kan få de partielt afledte, kan vi kigge på funktionen"
   ]
  },
  {
   "cell_type": "code",
   "execution_count": null,
   "metadata": {},
   "outputs": [],
   "source": [
    "x, y = symbols('x y')\n",
    "f = x*y**2+x\n",
    "f"
   ]
  },
  {
   "cell_type": "markdown",
   "metadata": {},
   "source": [
    "og finde de afledte med kommandoen som vi også brugte sidste semester"
   ]
  },
  {
   "cell_type": "code",
   "execution_count": null,
   "metadata": {},
   "outputs": [],
   "source": [
    "f.diff(x), f.diff(y)"
   ]
  },
  {
   "cell_type": "markdown",
   "metadata": {},
   "source": [
    "På samme måde kan man finde de afledte *af anden orden*"
   ]
  },
  {
   "cell_type": "code",
   "execution_count": null,
   "metadata": {},
   "outputs": [],
   "source": [
    "f.diff(x,2), f.diff(y,2), f.diff(x,y), f.diff(y,x)"
   ]
  },
  {
   "cell_type": "markdown",
   "metadata": {},
   "source": [
    "Vi kan så indsætte værdier i denne, for eksempel $\\frac{\\partial}{\\partial x}f(x,y)$ taget i $(-2,3)$ ved"
   ]
  },
  {
   "cell_type": "code",
   "execution_count": null,
   "metadata": {},
   "outputs": [],
   "source": [
    "f.diff(x).subs({x:-2,y:3})"
   ]
  },
  {
   "attachments": {},
   "cell_type": "markdown",
   "metadata": {},
   "source": [
    "Eller $\\frac{\\partial}{\\partial x\\partial y}f(x,y)$, taget i $(5,-13)$ ved"
   ]
  },
  {
   "cell_type": "code",
   "execution_count": null,
   "metadata": {},
   "outputs": [],
   "source": [
    "f.diff(x,y).subs({x:5,y:-13})"
   ]
  },
  {
   "attachments": {},
   "cell_type": "markdown",
   "metadata": {},
   "source": [
    "## Grafer og niveaukurver\n",
    "\n",
    "Vi skal nu, for første gang til at plotte funktioner af flere variable, og altså i 3D! Her er et valg man skal tage, for man har nemlig mulighed for at rotere et plot rundt, så man kan se det fra flere vinkler. \n",
    "\n",
    "Hvis man ikke gør noget aktivt (eller hvis man bruger kommandoen ``%matplotlib inline``), kommer plots som I er vant til fra efteråret (som også kommer med hvis man eksporterer til pdf),"
   ]
  },
  {
   "cell_type": "code",
   "execution_count": null,
   "metadata": {},
   "outputs": [],
   "source": [
    "f = 4-x**2-y**2\n",
    "\n",
    "p=dtuplot.plot3d(f, (x,-3,3),(y,-3,3))"
   ]
  },
  {
   "attachments": {},
   "cell_type": "markdown",
   "metadata": {},
   "source": [
    "Hvis man i stedet kører ``%matplotlib qt`` (i den følgende blok udkommenteret, men prøv at fjerne udkommenteringen), ændrer opførslen sig. Alle efterfølgende plots \"popper\" nu ud af VS Code, hvorefter man man rotere plottet rundt og se det fra flere vinkler! Prøv derefter at plotte 3D plottet igen!"
   ]
  },
  {
   "cell_type": "code",
   "execution_count": null,
   "metadata": {},
   "outputs": [],
   "source": [
    "# %matplotlib widget"
   ]
  },
  {
   "attachments": {},
   "cell_type": "markdown",
   "metadata": {},
   "source": [
    "Men sådan plottes 3D strukturer. Vi kan også plotte højdelinjer, altså et 2D plot over en 3D struktur ved,"
   ]
  },
  {
   "cell_type": "code",
   "execution_count": null,
   "metadata": {},
   "outputs": [],
   "source": [
    "dtuplot.plot_contour(f, (x,-3,3),(y,-3,3), is_filled=False)"
   ]
  },
  {
   "cell_type": "markdown",
   "metadata": {},
   "source": [
    "Og hvis vi vil bestemme hvilke højder der vises, kan vi bruge,"
   ]
  },
  {
   "cell_type": "code",
   "execution_count": null,
   "metadata": {},
   "outputs": [],
   "source": [
    "zvals = [-2,-1,0,1]\n",
    "dtuplot.plot_contour(f, (x,-3,3),(y,-3,3), rendering_kw={\"levels\":zvals, \"alpha\":0.5}, is_filled=False)"
   ]
  },
  {
   "attachments": {},
   "cell_type": "markdown",
   "metadata": {},
   "source": [
    "I ovenstående plot er der brugt ``rendering_kw={....}`` som argument, og det kan se lidt underligt ud. Dette er blot hvilke æstetiske (rendering) indstillinger der skal bruges, eksempelvis ``color``, ``alpha``, osv. Man kan også i det fleste tilfælde \"bare\" skrive ``{....}``, og så ved den godt at det er det æstetiske, men det er mere tydeligt at skrive det med.\n",
    "\n",
    "Her er samme plot vist, nu med højder som farver, i 3D,"
   ]
  },
  {
   "cell_type": "code",
   "execution_count": null,
   "metadata": {},
   "outputs": [],
   "source": [
    "p=dtuplot.plot3d(f, (x,-3,3),(y,-3,3), use_cm=True, legend=True)\n"
   ]
  },
  {
   "attachments": {},
   "cell_type": "markdown",
   "metadata": {},
   "source": [
    "## Gradientvektorfelter\n",
    "\n",
    "Vi kigger nu på vektorfeltet \n",
    "\n",
    "\\begin{equation}\n",
    "f(x,y)=\\cos(x)+\\sin(y).\n",
    "\\end{equation}\n",
    "\n",
    "Gradienten for $f$ taget i punktet $(x,y)$ er en vektor, som har symbolet $\\nabla f(x,y)$ ($\\nabla$ kaldes *nabla*). Den er sammensat af de to partielt afledte,\n"
   ]
  },
  {
   "cell_type": "code",
   "execution_count": null,
   "metadata": {},
   "outputs": [],
   "source": [
    "f = cos(x)+sin(y)\n",
    "nf = Matrix([f.diff(x), f.diff(y)])\n",
    "nf"
   ]
  },
  {
   "attachments": {},
   "cell_type": "markdown",
   "metadata": {},
   "source": [
    "Som let plottes ved,"
   ]
  },
  {
   "cell_type": "code",
   "execution_count": null,
   "metadata": {},
   "outputs": [],
   "source": [
    "dtuplot.plot_vector(nf, (x,-pi/2,3/2*pi),(y,0,2*pi),scalar=False)"
   ]
  },
  {
   "attachments": {},
   "cell_type": "markdown",
   "metadata": {},
   "source": [
    "Eller hvis det skal være lidt flottere (her er ``rendering_kw`` splittet, så man kan specificere for pile og contours seperat),"
   ]
  },
  {
   "cell_type": "code",
   "execution_count": null,
   "metadata": {},
   "outputs": [],
   "source": [
    "dtuplot.plot_vector(nf, (x,-pi/2,3/2*pi),(y,0,2*pi),\n",
    "    quiver_kw={\"color\":\"black\"},\n",
    "    contour_kw={\"cmap\": \"Blues_r\", \"levels\": 20},\n",
    "    grid=False, xlabel=\"x\", ylabel=\"y\",n=15)"
   ]
  },
  {
   "cell_type": "markdown",
   "metadata": {},
   "source": [
    "Som i 3D visualiseres ved"
   ]
  },
  {
   "cell_type": "code",
   "execution_count": null,
   "metadata": {},
   "outputs": [],
   "source": [
    "# \"camera\" Juster hvorfra man skal se på grafen\n",
    "# meget brugbart, hvis man vil have bestemt\n",
    "# rotation med i pdf-filen\n",
    "p = dtuplot.plot3d(f, (x,-pi/2,3/2*pi),(y,0,2*pi),use_cm=True, camera={\"elev\":45, \"azim\":-65}, legend=True)"
   ]
  },
  {
   "cell_type": "markdown",
   "metadata": {},
   "source": [
    "# Retningsafledt af funktion af to variable\n",
    "\n",
    "Vi betragter funktionen"
   ]
  },
  {
   "cell_type": "code",
   "execution_count": null,
   "metadata": {},
   "outputs": [],
   "source": [
    "f = 1-x**2/2-y**2/2\n",
    "f"
   ]
  },
  {
   "cell_type": "markdown",
   "metadata": {},
   "source": [
    "Vi ønsker nu den retningsafledte af $f$ fra punktet $(1,-1)$ i retningen givet ved enhedsvektoren,"
   ]
  },
  {
   "cell_type": "code",
   "execution_count": null,
   "metadata": {},
   "outputs": [],
   "source": [
    "x0 = Matrix([1,-1])\n",
    "e = Matrix([-1,-2]).normalized()\n",
    "e, float(e[0]), float(e[1])"
   ]
  },
  {
   "cell_type": "code",
   "execution_count": null,
   "metadata": {},
   "outputs": [],
   "source": [
    "p1 = dtuplot.scatter(x0, rendering_kw={\"markersize\":10,\"color\":'r'}, xlim=[-2,2],ylim=[-2,2],show=False)\n",
    "p1.extend(dtuplot.quiver(x0,e,show=False))\n",
    "p1.show()"
   ]
  },
  {
   "attachments": {},
   "cell_type": "markdown",
   "metadata": {},
   "source": [
    "Vi får gradienten i punktet $x_0$ ved"
   ]
  },
  {
   "cell_type": "code",
   "execution_count": null,
   "metadata": {},
   "outputs": [],
   "source": [
    "Nabla = Matrix([diff(f,x),diff(f,y)]).subs({x:x0[0],y:x0[1]})\n",
    "Nabla"
   ]
  },
  {
   "attachments": {},
   "cell_type": "markdown",
   "metadata": {},
   "source": [
    "Hvorefter den retningsafledte, $f'((1,-1), e)$, findes ved"
   ]
  },
  {
   "cell_type": "code",
   "execution_count": null,
   "metadata": {},
   "outputs": [],
   "source": [
    "a = e.dot(Nabla)\n",
    "a"
   ]
  },
  {
   "attachments": {},
   "cell_type": "markdown",
   "metadata": {},
   "source": [
    "Dette viser, at *f aftager* fra punktet $(1,-1)$ i retningen $e$. Dette er fordi den retningsafledte angiver raten, hvormed $f$ aftager."
   ]
  },
  {
   "attachments": {},
   "cell_type": "markdown",
   "metadata": {},
   "source": [
    "# Parameterkurve i (x,y)-planen og dens tangenter\n",
    "\n",
    "Vi betragter spiralen, givet ved parameterfremstillingen,"
   ]
  },
  {
   "cell_type": "code",
   "execution_count": null,
   "metadata": {},
   "outputs": [],
   "source": [
    "u, t = symbols('u t', real=True)\n",
    "r = Matrix([u*cos(u), u*sin(u)])\n",
    "r"
   ]
  },
  {
   "cell_type": "markdown",
   "metadata": {},
   "source": [
    "Tangentvektoren i et vilkårligt punkt fåes nu til"
   ]
  },
  {
   "cell_type": "code",
   "execution_count": null,
   "metadata": {},
   "outputs": [],
   "source": [
    "rd = diff(r,u)\n",
    "rd"
   ]
  },
  {
   "attachments": {},
   "cell_type": "markdown",
   "metadata": {},
   "source": [
    "Vi finder nu en parameterfremstilling for tangenten til spiralen i røringspunktet $((0,-\\frac{3\\pi}{2}))$, svarende til parameterværdien $u_0=\\frac{3\\pi}{2}$, som ses ved,"
   ]
  },
  {
   "cell_type": "code",
   "execution_count": null,
   "metadata": {},
   "outputs": [],
   "source": [
    "u0 = 3*pi/2\n",
    "rdu0 = rd.subs(u,u0)\n",
    "ru0 = r.subs(u,u0)\n",
    "ru0"
   ]
  },
  {
   "attachments": {},
   "cell_type": "markdown",
   "metadata": {},
   "source": [
    "Parameterfremstillingen for tangenten i $u_0$ findes ved"
   ]
  },
  {
   "cell_type": "code",
   "execution_count": null,
   "metadata": {},
   "outputs": [],
   "source": [
    "T = ru0 + t*rdu0\n",
    "T"
   ]
  },
  {
   "cell_type": "markdown",
   "metadata": {},
   "source": [
    "Det hele kan nu visualiseres ved"
   ]
  },
  {
   "cell_type": "code",
   "execution_count": null,
   "metadata": {},
   "outputs": [],
   "source": [
    "p = dtuplot.plot_parametric(r[0], r[1],(u,0,4*pi),rendering_kw={\"color\":\"red\"},use_cm=False,show=False)\n",
    "p.extend(dtuplot.plot_parametric(T[0],T[1],(t,-1.5,1.5),rendering_kw={\"color\":\"royalblue\"},use_cm=False,show=False))\n",
    "p.extend(dtuplot.scatter(ru0,rendering_kw={\"markersize\":10,\"color\":'black'}, show=False))\n",
    "p.extend(dtuplot.quiver(ru0,rdu0,rendering_kw={\"color\":\"black\"},show=False))\n",
    "\n",
    "p.show()"
   ]
  },
  {
   "cell_type": "code",
   "execution_count": null,
   "metadata": {},
   "outputs": [],
   "source": []
  }
 ],
 "metadata": {
  "kernelspec": {
   "display_name": "Python 3",
   "language": "python",
   "name": "python3"
  },
  "language_info": {
   "codemirror_mode": {
    "name": "ipython",
    "version": 3
   },
   "file_extension": ".py",
   "mimetype": "text/x-python",
   "name": "python",
   "nbconvert_exporter": "python",
   "pygments_lexer": "ipython3",
   "version": "3.11.1 (main, Dec  8 2022, 00:05:00) [GCC 10.2.1 20210110]"
  },
  "orig_nbformat": 4,
  "vscode": {
   "interpreter": {
    "hash": "949777d72b0d2535278d3dc13498b2535136f6dfe0678499012e853ee9abcab1"
   }
  }
 },
 "nbformat": 4,
 "nbformat_minor": 2
}
